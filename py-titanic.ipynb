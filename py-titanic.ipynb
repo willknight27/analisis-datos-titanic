{
 "cells": [
  {
   "cell_type": "code",
   "execution_count": 1,
   "metadata": {},
   "outputs": [],
   "source": [
    "import numpy as np\n",
    "import pandas as pd\n",
    "import matplotlib.pyplot as plt\n",
    "import seaborn as sns\n",
    "\n",
    "import warnings\n",
    "warnings,warnings.filterwarnings('ignore')\n",
    "\n",
    "#importar matplotlib para que los gráficos aparezcan en la misma fila\n",
    "%matplotlib inline"
   ]
  },
  {
   "cell_type": "code",
   "execution_count": 2,
   "metadata": {},
   "outputs": [],
   "source": [
    "data = pd.read_csv(\"train_titanic.csv\")"
   ]
  },
  {
   "cell_type": "code",
   "execution_count": 3,
   "metadata": {},
   "outputs": [
    {
     "data": {
      "text/html": [
       "<div>\n",
       "<style scoped>\n",
       "    .dataframe tbody tr th:only-of-type {\n",
       "        vertical-align: middle;\n",
       "    }\n",
       "\n",
       "    .dataframe tbody tr th {\n",
       "        vertical-align: top;\n",
       "    }\n",
       "\n",
       "    .dataframe thead th {\n",
       "        text-align: right;\n",
       "    }\n",
       "</style>\n",
       "<table border=\"1\" class=\"dataframe\">\n",
       "  <thead>\n",
       "    <tr style=\"text-align: right;\">\n",
       "      <th></th>\n",
       "      <th>PassengerId</th>\n",
       "      <th>Survived</th>\n",
       "      <th>Pclass</th>\n",
       "      <th>Name</th>\n",
       "      <th>Sex</th>\n",
       "      <th>Age</th>\n",
       "      <th>SibSp</th>\n",
       "      <th>Parch</th>\n",
       "      <th>Ticket</th>\n",
       "      <th>Fare</th>\n",
       "      <th>Cabin</th>\n",
       "      <th>Embarked</th>\n",
       "    </tr>\n",
       "  </thead>\n",
       "  <tbody>\n",
       "    <tr>\n",
       "      <th>0</th>\n",
       "      <td>1</td>\n",
       "      <td>0</td>\n",
       "      <td>3</td>\n",
       "      <td>Braund, Mr. Owen Harris</td>\n",
       "      <td>male</td>\n",
       "      <td>22.0</td>\n",
       "      <td>1</td>\n",
       "      <td>0</td>\n",
       "      <td>A/5 21171</td>\n",
       "      <td>7.2500</td>\n",
       "      <td>NaN</td>\n",
       "      <td>S</td>\n",
       "    </tr>\n",
       "    <tr>\n",
       "      <th>1</th>\n",
       "      <td>2</td>\n",
       "      <td>1</td>\n",
       "      <td>1</td>\n",
       "      <td>Cumings, Mrs. John Bradley (Florence Briggs Th...</td>\n",
       "      <td>female</td>\n",
       "      <td>38.0</td>\n",
       "      <td>1</td>\n",
       "      <td>0</td>\n",
       "      <td>PC 17599</td>\n",
       "      <td>71.2833</td>\n",
       "      <td>C85</td>\n",
       "      <td>C</td>\n",
       "    </tr>\n",
       "    <tr>\n",
       "      <th>2</th>\n",
       "      <td>3</td>\n",
       "      <td>1</td>\n",
       "      <td>3</td>\n",
       "      <td>Heikkinen, Miss. Laina</td>\n",
       "      <td>female</td>\n",
       "      <td>26.0</td>\n",
       "      <td>0</td>\n",
       "      <td>0</td>\n",
       "      <td>STON/O2. 3101282</td>\n",
       "      <td>7.9250</td>\n",
       "      <td>NaN</td>\n",
       "      <td>S</td>\n",
       "    </tr>\n",
       "    <tr>\n",
       "      <th>3</th>\n",
       "      <td>4</td>\n",
       "      <td>1</td>\n",
       "      <td>1</td>\n",
       "      <td>Futrelle, Mrs. Jacques Heath (Lily May Peel)</td>\n",
       "      <td>female</td>\n",
       "      <td>35.0</td>\n",
       "      <td>1</td>\n",
       "      <td>0</td>\n",
       "      <td>113803</td>\n",
       "      <td>53.1000</td>\n",
       "      <td>C123</td>\n",
       "      <td>S</td>\n",
       "    </tr>\n",
       "    <tr>\n",
       "      <th>4</th>\n",
       "      <td>5</td>\n",
       "      <td>0</td>\n",
       "      <td>3</td>\n",
       "      <td>Allen, Mr. William Henry</td>\n",
       "      <td>male</td>\n",
       "      <td>35.0</td>\n",
       "      <td>0</td>\n",
       "      <td>0</td>\n",
       "      <td>373450</td>\n",
       "      <td>8.0500</td>\n",
       "      <td>NaN</td>\n",
       "      <td>S</td>\n",
       "    </tr>\n",
       "  </tbody>\n",
       "</table>\n",
       "</div>"
      ],
      "text/plain": [
       "   PassengerId  Survived  Pclass  \\\n",
       "0            1         0       3   \n",
       "1            2         1       1   \n",
       "2            3         1       3   \n",
       "3            4         1       1   \n",
       "4            5         0       3   \n",
       "\n",
       "                                                Name     Sex   Age  SibSp  \\\n",
       "0                            Braund, Mr. Owen Harris    male  22.0      1   \n",
       "1  Cumings, Mrs. John Bradley (Florence Briggs Th...  female  38.0      1   \n",
       "2                             Heikkinen, Miss. Laina  female  26.0      0   \n",
       "3       Futrelle, Mrs. Jacques Heath (Lily May Peel)  female  35.0      1   \n",
       "4                           Allen, Mr. William Henry    male  35.0      0   \n",
       "\n",
       "   Parch            Ticket     Fare Cabin Embarked  \n",
       "0      0         A/5 21171   7.2500   NaN        S  \n",
       "1      0          PC 17599  71.2833   C85        C  \n",
       "2      0  STON/O2. 3101282   7.9250   NaN        S  \n",
       "3      0            113803  53.1000  C123        S  \n",
       "4      0            373450   8.0500   NaN        S  "
      ]
     },
     "execution_count": 3,
     "metadata": {},
     "output_type": "execute_result"
    }
   ],
   "source": [
    "data.head()"
   ]
  },
  {
   "cell_type": "code",
   "execution_count": 4,
   "metadata": {},
   "outputs": [
    {
     "data": {
      "text/plain": [
       "PassengerId      0\n",
       "Survived         0\n",
       "Pclass           0\n",
       "Name             0\n",
       "Sex              0\n",
       "Age            177\n",
       "SibSp            0\n",
       "Parch            0\n",
       "Ticket           0\n",
       "Fare             0\n",
       "Cabin          687\n",
       "Embarked         2\n",
       "dtype: int64"
      ]
     },
     "execution_count": 4,
     "metadata": {},
     "output_type": "execute_result"
    }
   ],
   "source": [
    "# Varibale objetivo: que variable impacto más en las muertes de los pasajeros\n",
    "# Revisar la cantidad de valores nulos(NaN) dentro de mi base de datos\n",
    "data.isnull().sum()"
   ]
  },
  {
   "cell_type": "code",
   "execution_count": 5,
   "metadata": {},
   "outputs": [
    {
     "data": {
      "text/plain": [
       "Text(0.5, 0, 'Sexo')"
      ]
     },
     "execution_count": 5,
     "metadata": {},
     "output_type": "execute_result"
    },
    {
     "data": {
      "image/png": "[encoded data removed]",
      "text/plain": [
       "<Figure size 1296x576 with 2 Axes>"
      ]
     },
     "metadata": {
      "needs_background": "light"
     },
     "output_type": "display_data"
    }
   ],
   "source": [
    "# Cantidad de sobrevivientes\n",
    "\n",
    "# 0: muertos\n",
    "# 1: Sobrevivientes\n",
    "f, ax = plt.subplots(1, 2, figsize = (18,8))\n",
    "\n",
    "# Contar los pasajeros que sobrevivieron o fallecieron. Se muestran los resultados como gráfico de torta\n",
    "# explode => separación de los datos en el gráfico\n",
    "# shadow => Agregar sombra al gráfico\n",
    "data['Survived'].value_counts().plot.pie(autopct = '%1.1f%%', ax = ax[0], explode = [0, 0.1], shadow = True)\n",
    "ax[0].set_title('Sobrevivientes')\n",
    "ax[0].set_ylabel('') # eje Y vacío\n",
    "\n",
    "\n",
    "# Gráfico 2\n",
    "# hue => La forma como se van a agrupar los datos. en este caso se agruparán por sobrevivientes\n",
    "sns.countplot('Sex', hue = 'Survived', data = data, ax = ax[1])\n",
    "ax[1].set_title('Cantidad de sobrevivientes')\n",
    "ax[1].set_ylabel('Cantidad de pasajeros')\n",
    "ax[1].set_xlabel('Sexo')\n",
    "\n",
    "\n",
    "# Analizando los gráficos el sexo es una variable que afecto la sobreviviencia\n",
    "# (La cantidad de mujeres que sobrevivieron fue mayor al de los hombres)\n",
    "# (La cantidad de hombres que murieron fue mayor (>400) en comparacion con las mujeres (<100))\n"
   ]
  },
  {
   "cell_type": "markdown",
   "metadata": {},
   "source": [
    "# Analisis de Características\n",
    "\n",
    "Características categorias:\n",
    "\n",
    "Una variable categórica es aquell que tiene dos o más categorías y ada valor en esa característica puede clasificare por ella. Por ejemplo, el genero es una variable categorica que tiene dos categorias (masculina y feminina). No podemos dar ningún oeden a tales variables. Tambien se conocen como variables nominales.\n",
    "\n",
    "* **Categorical Features in the dataset: SEX**\n",
    "\n",
    "Caracteristicas ordinales:\n",
    "\n",
    "Una variable ordinal es similar a los valores categoricos, pero la diferencia entre ellos es que podemos tener una ordenación u ordenación relativa entre lso valores. Por ejemplo: si tenemos una característica como Altura con vaores Alto, Medio, Corto, entonces altura es una variable ordinal. Aquí podemos tener una ordenación relativa en la variable.\n",
    "\n",
    "* **Ordinal Features in the dataset: PClass**\n",
    "\n",
    "Características continua:\n",
    "\n",
    "Se dice que una característica es continua si puede tomar valores entre dos puntos o entre los valores minimos o maximos en la columna de características.\n",
    "\n",
    "* **Continuos Features in the dataset: Age**"
   ]
  },
  {
   "cell_type": "markdown",
   "metadata": {},
   "source": [
    "Análisis de Características\n",
    "\n",
    "* _Analizando variable sexo categórica_"
   ]
  },
  {
   "cell_type": "code",
   "execution_count": 6,
   "metadata": {},
   "outputs": [
    {
     "data": {
      "text/plain": [
       "891"
      ]
     },
     "execution_count": 6,
     "metadata": {},
     "output_type": "execute_result"
    }
   ],
   "source": [
    "# Cantidad total de pasajeros\n",
    "data['PassengerId'].count()"
   ]
  },
  {
   "cell_type": "code",
   "execution_count": 7,
   "metadata": {},
   "outputs": [
    {
     "data": {
      "text/plain": [
       "0    549\n",
       "1    342\n",
       "Name: Survived, dtype: int64"
      ]
     },
     "execution_count": 7,
     "metadata": {},
     "output_type": "execute_result"
    }
   ],
   "source": [
    "# Cuantas personas sobrevivieron del sexo masculino y femenico\n",
    "data['Survived'].value_counts()"
   ]
  },
  {
   "cell_type": "code",
   "execution_count": 8,
   "metadata": {},
   "outputs": [
    {
     "data": {
      "text/plain": [
       "Sex     Survived\n",
       "female  0            81\n",
       "        1           233\n",
       "male    0           468\n",
       "        1           109\n",
       "Name: Survived, dtype: int64"
      ]
     },
     "execution_count": 8,
     "metadata": {},
     "output_type": "execute_result"
    }
   ],
   "source": [
    "# Agrupar los datos segun sexo y supervivencia\n",
    "data.groupby(['Sex','Survived'])['Survived'].count()"
   ]
  },
  {
   "cell_type": "code",
   "execution_count": 9,
   "metadata": {},
   "outputs": [
    {
     "data": {
      "image/png": "[encoded data removed]",
      "text/plain": [
       "<Figure size 432x288 with 1 Axes>"
      ]
     },
     "metadata": {
      "needs_background": "light"
     },
     "output_type": "display_data"
    }
   ],
   "source": [
    "# Gráfico con el promedio de mujeres y hombres que sobrevivieron\n",
    "data[ ['Sex','Survived'] ].groupby(['Sex']).mean().plot.bar()\n",
    "plt.show()\n",
    "# Segun el gráfico, mas del 70% (tasa de superviviencia 75%) de las mujeres sobrevivieron. Y de los hombres un 20% sobrevivio"
   ]
  },
  {
   "cell_type": "markdown",
   "metadata": {},
   "source": [
    "### Analizando variable ordinal PClass (Clase del pasajero)"
   ]
  },
  {
   "cell_type": "code",
   "execution_count": 14,
   "metadata": {},
   "outputs": [
    {
     "data": {
      "text/html": [
       "<style type=\"text/css\">\n",
       "#T_6b032_row0_col0, #T_6b032_row1_col1, #T_6b032_row1_col2 {\n",
       "  background-color: #ffff66;\n",
       "  color: #000000;\n",
       "}\n",
       "#T_6b032_row0_col1 {\n",
       "  background-color: #cee666;\n",
       "  color: #000000;\n",
       "}\n",
       "#T_6b032_row0_col2 {\n",
       "  background-color: #f4fa66;\n",
       "  color: #000000;\n",
       "}\n",
       "#T_6b032_row1_col0 {\n",
       "  background-color: #f6fa66;\n",
       "  color: #000000;\n",
       "}\n",
       "#T_6b032_row2_col0 {\n",
       "  background-color: #60b066;\n",
       "  color: #f1f1f1;\n",
       "}\n",
       "#T_6b032_row2_col1 {\n",
       "  background-color: #dfef66;\n",
       "  color: #000000;\n",
       "}\n",
       "#T_6b032_row2_col2 {\n",
       "  background-color: #90c866;\n",
       "  color: #000000;\n",
       "}\n",
       "#T_6b032_row3_col0, #T_6b032_row3_col1, #T_6b032_row3_col2 {\n",
       "  background-color: #008066;\n",
       "  color: #f1f1f1;\n",
       "}\n",
       "</style>\n",
       "<table id=\"T_6b032_\">\n",
       "  <thead>\n",
       "    <tr>\n",
       "      <th class=\"index_name level0\" >Survived</th>\n",
       "      <th class=\"col_heading level0 col0\" >0</th>\n",
       "      <th class=\"col_heading level0 col1\" >1</th>\n",
       "      <th class=\"col_heading level0 col2\" >All</th>\n",
       "    </tr>\n",
       "    <tr>\n",
       "      <th class=\"index_name level0\" >Pclass</th>\n",
       "      <th class=\"blank col0\" >&nbsp;</th>\n",
       "      <th class=\"blank col1\" >&nbsp;</th>\n",
       "      <th class=\"blank col2\" >&nbsp;</th>\n",
       "    </tr>\n",
       "  </thead>\n",
       "  <tbody>\n",
       "    <tr>\n",
       "      <th id=\"T_6b032_level0_row0\" class=\"row_heading level0 row0\" >1</th>\n",
       "      <td id=\"T_6b032_row0_col0\" class=\"data row0 col0\" >80</td>\n",
       "      <td id=\"T_6b032_row0_col1\" class=\"data row0 col1\" >136</td>\n",
       "      <td id=\"T_6b032_row0_col2\" class=\"data row0 col2\" >216</td>\n",
       "    </tr>\n",
       "    <tr>\n",
       "      <th id=\"T_6b032_level0_row1\" class=\"row_heading level0 row1\" >2</th>\n",
       "      <td id=\"T_6b032_row1_col0\" class=\"data row1 col0\" >97</td>\n",
       "      <td id=\"T_6b032_row1_col1\" class=\"data row1 col1\" >87</td>\n",
       "      <td id=\"T_6b032_row1_col2\" class=\"data row1 col2\" >184</td>\n",
       "    </tr>\n",
       "    <tr>\n",
       "      <th id=\"T_6b032_level0_row2\" class=\"row_heading level0 row2\" >3</th>\n",
       "      <td id=\"T_6b032_row2_col0\" class=\"data row2 col0\" >372</td>\n",
       "      <td id=\"T_6b032_row2_col1\" class=\"data row2 col1\" >119</td>\n",
       "      <td id=\"T_6b032_row2_col2\" class=\"data row2 col2\" >491</td>\n",
       "    </tr>\n",
       "    <tr>\n",
       "      <th id=\"T_6b032_level0_row3\" class=\"row_heading level0 row3\" >All</th>\n",
       "      <td id=\"T_6b032_row3_col0\" class=\"data row3 col0\" >549</td>\n",
       "      <td id=\"T_6b032_row3_col1\" class=\"data row3 col1\" >342</td>\n",
       "      <td id=\"T_6b032_row3_col2\" class=\"data row3 col2\" >891</td>\n",
       "    </tr>\n",
       "  </tbody>\n",
       "</table>\n"
      ],
      "text/plain": [
       "<pandas.io.formats.style.Styler at 0x2328b5acb50>"
      ]
     },
     "execution_count": 14,
     "metadata": {},
     "output_type": "execute_result"
    }
   ],
   "source": [
    "# Grafico cruzado\n",
    "#  margins = true => Para mostrar el total\n",
    "# Agregar estilos para ver los datos con mayores cantidades (relevantes)\n",
    "pd.crosstab( data['Pclass'], data['Survived'] , margins=True ).style.background_gradient(cmap = 'summer_r')\n",
    "  "
   ]
  },
  {
   "cell_type": "code",
   "execution_count": 22,
   "metadata": {},
   "outputs": [
    {
     "data": {
      "text/plain": [
       "Text(0.5, 0, 'Clase del pasajero')"
      ]
     },
     "execution_count": 22,
     "metadata": {},
     "output_type": "execute_result"
    },
    {
     "data": {
      "image/png": "[encoded data removed]",
      "text/plain": [
       "<Figure size 1296x576 with 2 Axes>"
      ]
     },
     "metadata": {
      "needs_background": "light"
     },
     "output_type": "display_data"
    }
   ],
   "source": [
    "# Gráficos:\n",
    "#   Cantidad de pasajero por clase\n",
    "#   Cuantos vivieron y murieron por clase\n",
    "\n",
    "# En 1 fila, 2 graficos de 18x8\n",
    "f, ax = plt.subplots(1,2, figsize = (18,8))\n",
    "\n",
    "# Grafico de barra - Cantidad de pasajero por clase\n",
    "data['Pclass'].value_counts().plot.bar( ax = ax[0], color = ['#CD7F32','#FFDF00','#D3D3D3'] )\n",
    "ax[0].set_title('Cantidad de pasajeros por clase')\n",
    "ax[0].set_ylabel('Cantidad')\n",
    "ax[0].set_xlabel('Clase del pasajero')\n",
    "\n",
    "\n",
    "sns.countplot( 'Pclass', hue='Survived', data = data, ax = ax[1] )\n",
    "ax[1].set_title('Sobrevivientes vs Muertos por clase')\n",
    "ax[1].set_ylabel('Cantidad')\n",
    "ax[1].set_xlabel('Clase del pasajero')\n",
    "\n",
    "# en primera y segunda clase hubo una prioridad en el rescate, no asi en la tercera clase\n",
    "# En tercera clase solo sobrebvivio un 25% de los pasajeros\n",
    "# En primera clase aprox un 60% de los pasajeros sobrevivieron y en segunda un 50%\n",
    "\n",
    "# Podemos concluir que la clase del pasajero es una caracteristica relevante en su superviviencia.\n"
   ]
  }
 ],
 "metadata": {
  "interpreter": {
   "hash": "b89b5cfaba6639976dc87ff2fec6d58faec662063367e2c229c520fe71072417"
  },
  "kernelspec": {
   "display_name": "Python 3.10.1 64-bit",
   "language": "python",
   "name": "python3"
  },
  "language_info": {
   "codemirror_mode": {
    "name": "ipython",
    "version": 3
   },
   "file_extension": ".py",
   "mimetype": "text/x-python",
   "name": "python",
   "nbconvert_exporter": "python",
   "pygments_lexer": "ipython3",
   "version": "3.10.1"
  },
  "orig_nbformat": 4
 },
 "nbformat": 4,
 "nbformat_minor": 2
}
